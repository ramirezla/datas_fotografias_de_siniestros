{
 "cells": [
  {
   "cell_type": "markdown",
   "metadata": {},
   "source": [
    "---\n",
    "---\n",
    "### Lista de encabezados\n",
    "1. Piezas del Vehículo:\n",
    "- 1:\"Antiniebla delantero derecho\", 2:\"Antiniebla delantero izquierdo\", 3:\"Asiento\", 4:\"Brazo del techo\", 5:\"Brazo transversal\", 6:\"Capó\", 7:\"Cerradura capo\", 8:\"Cerradura Maletero\", 9:\"Cerradura puerta\", 10:\"Espejo lateral derecho\", 11:\"Espejo lateral izquierdo\", 12:\"Espejo retrovisor\", 13:\"Faros derecho\", 14:\"Faros izquierdo\", 15:\"Guardabarros delantero derecho\", 16:\"Guardabarros delantero izquierdo\", \n",
    "17:\"Guardabarros trasero derecho\", 18:\"Guardabarros trasero izquierdo\", 19:\"Limpiaparabrisas\", 20:\"Luz indicadora delantera derecha\", 21:\"Luz indicadora delantera izquierda\", 22:\"Luz indicadora trasera derecha\", 23:\"Luz indicadora trasera izquierda\", 24:\"Luz trasera derecho\", \n",
    "25:\"Luz trasera izquierdo\", 26:\"Maletero\", 27:\"Manija derecha\", 28:\"Manija izquierda\", 29:\"Marco de la ventana\", 30:\"Marco de las puertas\", 31:\"Matrícula\", 32:\"Moldura capó\", 33:\"Moldura maletro\", 34:\"Moldura puerta delantera derecha\", 35:\"Moldura puerta delantera izquierda\", \n",
    "36:\"Moldura puerta trasera derecha\", 37:\"Moldura puerta trasera izquierda\", 38:\"Parabrisas delantero\", 39:\"Parabrisas trasero\", 40:\"Parachoques delantero\", 41:\"Parachoques trasero\", 42:\"Poste del techo\", 43:\"Puerta delantera derecha\", 44:\"Puerta delantera izquierda\", 45:\"Puerta trasera derecha\", 46:\"Puerta trasera izquierda\", 47:\"Radiador\", 48:\"Rejilla o parrilla\", 49:\"Rueda\", 50:\"Silenciador o mofle\", 51:\"Tapa de combustible\", 52:\"Tapa de rueda\", 53:\"Techo\", 54:\"Techo corredizo\", 55:\"Ventana delantera derecha\", 56:\"Ventana delantera izquierda\", 57:\"Ventana trasera derecha\", 58:\"Ventana trasera izquierda\", 59:\"Ventanilla delantera derecha\", 60:\"Ventanilla delantera izquierda\", 61:\"Ventanilla trasera derecha\", 62:\"Ventanilla trasera izquierda\", 63:\"Volante\"     \n",
    "\n",
    "2. Tipos de Daño:\n",
    "- 1:\"Abolladura\", 2:\"Corrosión\", 3:\"Deformación\", \n",
    "4:\"Desprendimiento\", 5:\"Fractura\", 6:\"Rayón\", 7:\"Rotura\"\n",
    "\n",
    "3. Sugerencia:\n",
    "- 1:\"Reparar\", \n",
    "2:\"Reemplazar\""
   ]
  },
  {
   "cell_type": "markdown",
   "metadata": {},
   "source": [
    "Todos los mapeos completos para piezas, daños y sugerencias."
   ]
  },
  {
   "cell_type": "code",
   "execution_count": null,
   "metadata": {
    "vscode": {
     "languageId": "plaintext"
    }
   },
   "outputs": [],
   "source": [
    "import pandas as pd\n",
    "import seaborn as sns\n",
    "\n",
    "# =============================================\n",
    "# 1. DICCIONARIOS COMPLETOS DE MAPEO\n",
    "# =============================================\n",
    "\n",
    "# Diccionario para Piezas del Vehículo (completo y corregido)\n",
    "label_to_cls_piezas = {\n",
    "    1: \"Antiniebla delantero derecho\",\n",
    "    2: \"Antiniebla delantero izquierdo\",\n",
    "    3: \"Asiento\",\n",
    "    4: \"Brazo del techo\",\n",
    "    5: \"Brazo transversal\",\n",
    "    6: \"Capó\",\n",
    "    7: \"Cerradura capo\",\n",
    "    8: \"Cerradura maletero\",\n",
    "    9: \"Cerradura puerta\",\n",
    "    10: \"Espejo lateral derecho\",\n",
    "    11: \"Espejo lateral izquierdo\",\n",
    "    12: \"Espejo retrovisor\",\n",
    "    13: \"Faros derecho\",\n",
    "    14: \"Faros izquierdo\",\n",
    "    15: \"Guardabarros delantero derecho\",\n",
    "    16: \"Guardabarros delantero izquierdo\",\n",
    "    17: \"Guardabarros trasero derecho\",\n",
    "    18: \"Guardabarros trasero izquierdo\",\n",
    "    19: \"Limpiaparabrisas\",\n",
    "    20: \"Luz indicadora delantera derecha\",\n",
    "    21: \"Luz indicadora delantera izquierda\",\n",
    "    22: \"Luz indicadora trasera derecha\",\n",
    "    23: \"Luz indicadora trasera izquierda\",\n",
    "    24: \"Luz trasera derecho\",\n",
    "    25: \"Luz trasera izquierdo\",\n",
    "    26: \"Maletero\",\n",
    "    27: \"Manija derecha\",\n",
    "    28: \"Manija izquierda\",\n",
    "    29: \"Marco de la ventana\",\n",
    "    30: \"Marco de las puertas\",\n",
    "    31: \"Matrícula\",\n",
    "    32: \"Moldura capó\",\n",
    "    33: \"Moldura maletro\",\n",
    "    34: \"Moldura puerta delantera derecha\",\n",
    "    35: \"Moldura puerta delantera izquierda\",\n",
    "    36: \"Moldura puerta trasera derecha\",\n",
    "    37: \"Moldura puerta trasera izquierda\",\n",
    "    38: \"Parabrisas delantero\",\n",
    "    39: \"Parabrisas trasero\",\n",
    "    40: \"Parachoques delantero\",\n",
    "    41: \"Parachoques trasero\",\n",
    "    42: \"Poste del techo\",\n",
    "    43: \"Puerta delantera derecha\",\n",
    "    44: \"Puerta delantera izquierda\",\n",
    "    45: \"Puerta trasera derecha\",\n",
    "    46: \"Puerta trasera izquierda\",\n",
    "    47: \"Radiador\",\n",
    "    48: \"Rejilla, parrilla\",\n",
    "    49: \"Rueda\",\n",
    "    50: \"Silenciador, el mofle\",\n",
    "    51: \"Tapa de combustible\",\n",
    "    52: \"Tapa de rueda\",\n",
    "    53: \"Techo\",\n",
    "    54: \"Techo corredizo\",\n",
    "    55: \"Ventana delantera derecha\",\n",
    "    56: \"Ventana delantera izquierda\",\n",
    "    57: \"Ventana trasera derecha\",\n",
    "    58: \"Ventana trasera izquierda\",\n",
    "    59: \"Ventanilla delantera derecha\",\n",
    "    60: \"Ventanilla delantera izquierda\",\n",
    "    61: \"Ventanilla trasera derecha\",\n",
    "    62: \"Ventanilla trasera izquierda\",\n",
    "    63: \"Volante\"\n",
    "}\n",
    "\n",
    "# Diccionario para Tipos de Daño (completo)\n",
    "label_to_cls_danos = {\n",
    "    1: \"Abolladura\",\n",
    "    2: \"Corrosión\",\n",
    "    3: \"Deformación\",\n",
    "    4: \"Desprendimiento\",\n",
    "    5: \"Fractura\",\n",
    "    6: \"Rayón\",\n",
    "    7: \"Rotura\"\n",
    "}\n",
    "\n",
    "# Diccionario para Sugerencia (completo)\n",
    "label_to_cls_sugerencia = {\n",
    "    1: \"Reparar\",\n",
    "    2: \"Reemplazar\"\n",
    "}"
   ]
  },
  {
   "cell_type": "markdown",
   "metadata": {},
   "source": [
    "Procesamiento robusto:"
   ]
  },
  {
   "cell_type": "markdown",
   "metadata": {},
   "source": [
    "    - Limpieza de texto (minúsculas, eliminar espacios)\n",
    "    - Manejo de valores compuestos (ej. \"Abolladura-dent\")\n",
    "    - Manejo de errores y valores no encontrados"
   ]
  },
  {
   "cell_type": "code",
   "execution_count": null,
   "metadata": {
    "vscode": {
     "languageId": "plaintext"
    }
   },
   "outputs": [],
   "source": [
    "# Crear diccionarios inversos (texto -> número)\n",
    "cls_to_label_piezas = {v.lower().strip(): k for k, v in label_to_cls_piezas.items()}\n",
    "cls_to_label_danos = {v.lower().strip(): k for k, v in label_to_cls_danos.items()}\n",
    "cls_to_label_sugerencia = {v.lower().strip(): k for k, v in label_to_cls_sugerencia.items()}"
   ]
  },
  {
   "cell_type": "markdown",
   "metadata": {},
   "source": [
    "    - Valores nulos o faltantes\n",
    "    - Texto con formatos inconsistentes"
   ]
  },
  {
   "cell_type": "code",
   "execution_count": null,
   "metadata": {
    "vscode": {
     "languageId": "plaintext"
    }
   },
   "outputs": [],
   "source": [
    "# =============================================\n",
    "# 2. FUNCIONES DE PROCESAMIENTO\n",
    "# =============================================\n",
    "\n",
    "def limpiar_texto(texto):\n",
    "    \"\"\"Limpia y estandariza el texto para comparación\"\"\"\n",
    "    if pd.isna(texto):\n",
    "        return \"\"\n",
    "    return texto.lower().strip()\n",
    "\n",
    "def procesar_dano(texto):\n",
    "    \"\"\"Procesa la columna Tipos de Daño (maneja casos como 'Abolladura-dent')\"\"\"\n",
    "    texto = limpiar_texto(texto)\n",
    "    if '-' in texto:\n",
    "        return texto.split('-')[0]\n",
    "    return texto\n",
    "\n",
    "def mapear_valor(texto, diccionario, columna):\n",
    "    \"\"\"Mapea texto a valor numérico con manejo de errores\"\"\"\n",
    "    try:\n",
    "        texto = limpiar_texto(texto)\n",
    "        if columna == 'Tipos de Daño':\n",
    "            texto = procesar_dano(texto)\n",
    "        return diccionario.get(texto, -1)  # -1 para valores no encontrados\n",
    "    except Exception as e:\n",
    "        print(f\"Error procesando valor: {texto} - {str(e)}\")\n",
    "        return -1"
   ]
  },
  {
   "cell_type": "markdown",
   "metadata": {},
   "source": [
    "    - Reporte de valores no encontrados\n",
    "    - Confirmación del proceso completado"
   ]
  },
  {
   "cell_type": "code",
   "execution_count": null,
   "metadata": {
    "vscode": {
     "languageId": "plaintext"
    }
   },
   "outputs": [],
   "source": [
    "# =============================================\n",
    "# 3. PROCESAR EL ARCHIVO CSV\n",
    "# =============================================\n",
    "\n",
    "# Leer el archivo original (ajusta el separador según tu archivo)\n",
    "df = pd.read_csv('data/fotos_siniestros/clasificacion_fotos_partes_reducida.csv', sep='|')\n",
    "\n",
    "# Aplicar el mapeo a cada columna\n",
    "df['Tipos de Daño_encoded'] = df['Tipos de Daño'].apply(\n",
    "    lambda x: mapear_valor(x, cls_to_label_danos, 'Tipos de Daño'))\n",
    "df['Piezas del Vehículo_encoded'] = df['Piezas del Vehículo'].apply(\n",
    "    lambda x: mapear_valor(x, cls_to_label_piezas, 'Piezas del Vehículo'))\n",
    "df['Sugerencia_encoded'] = df['Sugerencia'].apply(\n",
    "    lambda x: mapear_valor(x, cls_to_label_sugerencia, 'Sugerencia'))\n",
    "\n",
    "# Verificar valores no mapeados (-1)\n",
    "for col in ['Tipos de Daño', 'Piezas del Vehículo', 'Sugerencia']:\n",
    "    no_encontrados = df[df[f'{col}_encoded'] == -1][col].unique()\n",
    "    if len(no_encontrados) > 0:\n",
    "        print(f\"\\nADVERTENCIA: Valores no mapeados en {col}:\")\n",
    "        print(no_encontrados)"
   ]
  },
  {
   "cell_type": "code",
   "execution_count": null,
   "metadata": {
    "vscode": {
     "languageId": "plaintext"
    }
   },
   "outputs": [],
   "source": [
    "# =============================================\n",
    "# 4. CREAR NUEVO CSV CON ETIQUETAS\n",
    "# =============================================\n",
    "\n",
    "# Seleccionar y renombrar columnas\n",
    "df_encoded = df[[\n",
    "    'Imagen',\n",
    "    'Tipos de Daño_encoded',\n",
    "    'Piezas del Vehículo_encoded',\n",
    "    'Sugerencia_encoded'\n",
    "]].rename(columns={\n",
    "    'Tipos de Daño_encoded': 'Tipos de Daño',\n",
    "    'Piezas del Vehículo_encoded': 'Piezas del Vehículo',\n",
    "    'Sugerencia_encoded': 'Sugerencia'\n",
    "})\n",
    "\n",
    "# Guardar el nuevo archivo CSV\n",
    "df_encoded.to_csv('data/fotos_siniestros/datos_vehiculos_encoded.csv', index=False, sep='|')\n",
    "\n",
    "print(\"\\nProceso completado exitosamente!\")\n",
    "print(f\"Archivo original: {len(df)} registros\")\n",
    "print(f\"Archivo codificado: {len(df_encoded)} registros\")\n",
    "print(\"Nuevo archivo guardado como: datos_vehiculos_encoded.csv\")"
   ]
  },
  {
   "cell_type": "markdown",
   "metadata": {},
   "source": [
    "Separar los datos para entrenamientos y pruebas.\n",
    "\n",
    "- Manejo de imágenes múltiples: Agrupa y consolida correctamente imágenes con múltiples registros (como 9.jpg y 15.jpg en tu ejemplo).\n",
    "- División estratificada: Mantiene proporciones similares de clases en todos los conjuntos, especialmente para la columna \"Sugerencia\".\n",
    "- Reconstrucción precisa: Después de la división, expande los registros para mantener la estructura original del CSV.\n",
    "- Validación incluida: Crea tres conjuntos (entrenamiento, validación y prueba) con proporciones 60%-20%-20%.\n",
    "- Reporte detallado: Genera estadísticas de distribución para cada conjunto.\n",
    "- Semilla aleatoria: Garantiza reproducibilidad en las divisiones."
   ]
  },
  {
   "cell_type": "code",
   "execution_count": null,
   "metadata": {
    "vscode": {
     "languageId": "plaintext"
    }
   },
   "outputs": [],
   "source": [
    "import pandas as pd\n",
    "from sklearn.model_selection import train_test_split\n",
    "import os\n",
    "\n",
    "# Configuración\n",
    "SEED = 42\n",
    "TEST_SIZE = 0.2  # 20% para prueba\n",
    "VAL_SIZE = 0.25  # 25% del entrenamiento para validación (20% del total)\n",
    "\n",
    "# 1. Cargar los datos codificados\n",
    "df = pd.read_csv('data/fotos_siniestros/datos_vehiculos_encoded.csv', sep='|')"
   ]
  },
  {
   "cell_type": "markdown",
   "metadata": {},
   "source": [
    "### Mejorando el manejo de imagenes:\n",
    "\n",
    "    - Selección explícita de columnas: Al incluir [['Tipos de Daño', 'Piezas del Vehículo', 'Sugerencia']] después del groupby, estamos siendo explícitos sobre qué columnas queremos procesar.\n",
    "    - group_keys=False: Este parámetro evita que Pandas incluya las claves de agrupación en el resultado.\n",
    "    - Manejo mejorado de NaN: La función clean_unique ahora usa dropna() que es más eficiente que filter(pd.notna, ...)."
   ]
  },
  {
   "cell_type": "code",
   "execution_count": null,
   "metadata": {
    "vscode": {
     "languageId": "plaintext"
    }
   },
   "outputs": [],
   "source": [
    "# 2. Manejar imágenes con múltiples registros (como 9.jpg, 15.jpg)\n",
    "# Agrupamos por imagen y consolidamos las etiquetas\n",
    "def consolidar_etiquetas(group):\n",
    "    result = {\n",
    "        'Tipos de Daño': [],\n",
    "        'Piezas del Vehículo': [],\n",
    "        'Sugerencia': []\n",
    "    }\n",
    "    \n",
    "    for col in result.keys():\n",
    "        unique_values = group[col].dropna().unique()\n",
    "        result[col] = unique_values.tolist()\n",
    "    \n",
    "    return pd.Series(result)\n",
    "\n",
    "df_consolidado = (\n",
    "    df.groupby('Imagen', group_keys=False)\n",
    "    [['Tipos de Daño', 'Piezas del Vehículo', 'Sugerencia']]  # Selección explícita de columnas\n",
    "    .apply(consolidar_etiquetas)\n",
    "    .reset_index()\n",
    ")"
   ]
  },
  {
   "cell_type": "code",
   "execution_count": null,
   "metadata": {
    "vscode": {
     "languageId": "plaintext"
    }
   },
   "outputs": [],
   "source": [
    "# 3. Dividir los datos\n",
    "# Primero dividimos en entrenamiento+validación (80%) y prueba (20%)\n",
    "train_val_df, test_df = train_test_split(\n",
    "    df_consolidado,\n",
    "    test_size=TEST_SIZE,\n",
    "    random_state=SEED,\n",
    "    stratify=df_consolidado['Sugerencia'].apply(lambda x: x[0])  # Estratificar por primera sugerencia\n",
    ")"
   ]
  },
  {
   "cell_type": "code",
   "execution_count": null,
   "metadata": {
    "vscode": {
     "languageId": "plaintext"
    }
   },
   "outputs": [],
   "source": [
    "# Luego dividimos el entrenamiento en entrenamiento (60%) y validación (20%)\n",
    "train_df, val_df = train_test_split(\n",
    "    train_val_df,\n",
    "    test_size=VAL_SIZE/(1-TEST_SIZE),  # Ajustar para que sea 20% del total\n",
    "    random_state=SEED,\n",
    "    stratify=train_val_df['Sugerencia'].apply(lambda x: x[0])\n",
    ")"
   ]
  },
  {
   "cell_type": "code",
   "execution_count": null,
   "metadata": {
    "vscode": {
     "languageId": "plaintext"
    }
   },
   "outputs": [],
   "source": [
    "# 4. Reconstruir los DataFrames originales (desagrupar las listas)\n",
    "def expandir_registros(df):\n",
    "    records = []\n",
    "    for _, row in df.iterrows():\n",
    "        for tipo in row['Tipos de Daño']:\n",
    "            for pieza in row['Piezas del Vehículo']:\n",
    "                for sugerencia in row['Sugerencia']:\n",
    "                    records.append({\n",
    "                        'Imagen': row['Imagen'],\n",
    "                        'Tipos de Daño': tipo,\n",
    "                        'Piezas del Vehículo': pieza,\n",
    "                        'Sugerencia': sugerencia\n",
    "                    })\n",
    "    return pd.DataFrame(records)# Aplicar oversampling con SMOTE\n",
    "\n",
    "# Aplicar oversampling con SMOTE\n",
    "from imblearn.over_sampling import SMOTE\n",
    "\n",
    "smote = SMOTE(random_state=42)\n",
    "X_res, y_res = smote.fit_resample(df[['Tipos de Daño', 'Piezas del Vehículo']], df['Sugerencia'])\n",
    "\n",
    "train_expanded = expandir_registros(train_df)\n",
    "val_expanded = expandir_registros(val_df)\n",
    "test_expanded = expandir_registros(test_df)"
   ]
  },
  {
   "cell_type": "code",
   "execution_count": null,
   "metadata": {
    "vscode": {
     "languageId": "plaintext"
    }
   },
   "outputs": [],
   "source": [
    "# 5. Guardar los conjuntos de datos\n",
    "os.makedirs('data/fotos_siniestros/datasets', exist_ok=True)\n",
    "\n",
    "train_expanded.to_csv('data/fotos_siniestros/datasets/train.csv', index=False, sep='|')\n",
    "val_expanded.to_csv('data/fotos_siniestros/datasets/val.csv', index=False, sep='|')\n",
    "test_expanded.to_csv('data/fotos_siniestros/datasets/test.csv', index=False, sep='|')"
   ]
  },
  {
   "cell_type": "code",
   "execution_count": null,
   "metadata": {
    "vscode": {
     "languageId": "plaintext"
    }
   },
   "outputs": [],
   "source": [
    "# Cargar los datasets\n",
    "train_expanded = pd.read_csv('data/fotos_siniestros/datasets/train.csv', sep='|')\n",
    "val_expanded = pd.read_csv('data/fotos_siniestros/datasets/val.csv', sep='|')\n",
    "test_expanded = pd.read_csv('data/fotos_siniestros/datasets/test.csv', sep='|')"
   ]
  },
  {
   "cell_type": "markdown",
   "metadata": {},
   "source": [
    "Análisis Estadístico Básico"
   ]
  },
  {
   "cell_type": "code",
   "execution_count": null,
   "metadata": {
    "vscode": {
     "languageId": "plaintext"
    }
   },
   "outputs": [],
   "source": [
    "import pandas as pd\n",
    "import matplotlib.pyplot as plt\n",
    "\n",
    "# Cargar los datos\n",
    "df = pd.read_csv('data/fotos_siniestros/datos_vehiculos_encoded.csv', sep='|')\n",
    "\n",
    "# 1. Análisis para 'Sugerencia'\n",
    "sugerencia_dist = df['Sugerencia'].value_counts(normalize=True)\n",
    "print(\"Distribución de Sugerencias:\")\n",
    "print(sugerencia_dist)\n",
    "\n",
    "# 2. Análisis para 'Tipos de Daño'\n",
    "danos_dist = df['Tipos de Daño'].value_counts(normalize=True)\n",
    "print(\"\\nDistribución de Tipos de Daño:\")\n",
    "print(danos_dist)\n",
    "\n",
    "# 3. Análisis para 'Piezas del Vehículo' (top 20)\n",
    "piezas_dist = df['Piezas del Vehículo'].value_counts(normalize=True)\n",
    "print(\"\\nDistribución de Piezas (Top 20):\")\n",
    "print(piezas_dist.head(20))"
   ]
  },
  {
   "cell_type": "markdown",
   "metadata": {},
   "source": [
    "Visualización Gráfica de los datos"
   ]
  },
  {
   "cell_type": "code",
   "execution_count": null,
   "metadata": {
    "vscode": {
     "languageId": "plaintext"
    }
   },
   "outputs": [],
   "source": [
    "# Configurar el estilo de los gráficos\n",
    "### plt.style.use('ggplot')\n",
    "plt.style.use('tableau-colorblind10')\n",
    "### plt.style.use(mystyle)\n",
    "plt.figure(figsize=(15, 10))\n",
    "###plt.figure(figsize=(16, 12))\n",
    "plt.suptitle('Distribución de Variables', fontsize=16, y=1.02)\n",
    "\n",
    "# 1. Gráfico para Sugerencia\n",
    "plt.subplot(3, 1, 1)\n",
    "### df['Sugerencia'].map({1: 'Reparar', 2: 'Reemplazar'}).value_counts().plot(kind='bar')\n",
    "df['Sugerencia'].map({1: 'Reparar', 2: 'Reemplazar'}).value_counts().plot(kind='barh')\n",
    "plt.title('Distribución de Sugerencias')\n",
    "plt.xlabel('Sugerencia')\n",
    "plt.ylabel('Cantidad')\n",
    "\n",
    "# 2. Gráfico para Tipos de Daño\n",
    "plt.subplot(3, 1, 2)\n",
    "### df['Tipos de Daño'].map(label_to_cls_danos).value_counts().plot(kind='bar')\n",
    "df['Tipos de Daño'].map(label_to_cls_danos).value_counts().plot(kind='barh')\n",
    "plt.title('Distribución de Tipos de Daño')\n",
    "plt.xlabel('Tipo de Daño')\n",
    "plt.ylabel('Cantidad')\n",
    "\n",
    "# 3. Gráfico para Piezas (Top 15)\n",
    "plt.subplot(3, 1, 3)\n",
    "### df['Piezas del Vehículo'].map(label_to_cls_piezas).value_counts().head(15).plot(kind='bar')\n",
    "df['Piezas del Vehículo'].map(label_to_cls_piezas).value_counts().head(15).plot(kind='barh')\n",
    "plt.title('Distribución de Piezas (Top 15)')\n",
    "plt.xlabel('Pieza del Vehículo')\n",
    "plt.ylabel('Cantidad')\n",
    "\n",
    "plt.tight_layout()\n",
    "plt.show()"
   ]
  },
  {
   "cell_type": "markdown",
   "metadata": {},
   "source": [
    "---\n",
    "---"
   ]
  }
 ],
 "metadata": {
  "language_info": {
   "name": "python"
  }
 },
 "nbformat": 4,
 "nbformat_minor": 2
}
